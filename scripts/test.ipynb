{
 "cells": [
  {
   "cell_type": "code",
   "execution_count": 2,
   "metadata": {},
   "outputs": [],
   "source": [
    "import os\n",
    "import numpy as np\n",
    "from PIL import Image\n",
    "from tqdm import tqdm"
   ]
  },
  {
   "cell_type": "code",
   "execution_count": 9,
   "metadata": {},
   "outputs": [],
   "source": [
    "def is_image_name(name):\n",
    "    valid_names = ['.jpg', '.png', '.JPG', '.PNG']\n",
    "    for v in valid_names:\n",
    "        if name.endswith(v):\n",
    "            return True\n",
    "    return False\n",
    "\n",
    "def get_images_from_dir(dir_path):\n",
    "    imgs = sorted([os.path.join(dir_path, img) for img in os.listdir(dir_path) if is_image_name(img)])\n",
    "    imgs = [np.array(Image.open(img)) for img in imgs]\n",
    "    return imgs"
   ]
  },
  {
   "cell_type": "code",
   "execution_count": 14,
   "metadata": {},
   "outputs": [
    {
     "name": "stderr",
     "output_type": "stream",
     "text": [
      "100%|██████████| 300/300 [00:10<00:00, 27.35it/s]\n"
     ]
    }
   ],
   "source": [
    "dir_src = '/home/zhi-hao/Desktop/chih-hao-lin.github.io/images/2025/iris/assets/video_relight_1'\n",
    "dir_tgt = '/home/zhi-hao/Desktop/chih-hao-lin.github.io/images/2025/iris/assets/r_relight_1'\n",
    "os.makedirs(dir_tgt, exist_ok=True)\n",
    "\n",
    "images = get_images_from_dir(dir_src)[::-1]\n",
    "for i in tqdm(range(len(images))):\n",
    "    img = images[i][:340]\n",
    "    img = Image.fromarray(img)\n",
    "    path = os.path.join(dir_tgt, f'{i:0>3d}.png')\n",
    "    img.save(path)\n"
   ]
  },
  {
   "cell_type": "code",
   "execution_count": 3,
   "metadata": {},
   "outputs": [
    {
     "name": "stdout",
     "output_type": "stream",
     "text": [
      "(1824, 2809, 4)\n"
     ]
    }
   ],
   "source": [
    "path = '/home/zhi-hao/Desktop/chih-hao-lin.github.io/images/2025/autovfx/before.png'\n",
    "img = np.array(Image.open(path))\n",
    "print(img.shape)\n",
    "\n",
    "path_new = '/home/zhi-hao/Desktop/chih-hao-lin.github.io/images/2025/autovfx/before_1.png'\n",
    "img = Image.fromarray(img[5:-5,4:-5,:3])\n",
    "\n",
    "img.save(path_new)"
   ]
  }
 ],
 "metadata": {
  "kernelspec": {
   "display_name": "fipt",
   "language": "python",
   "name": "python3"
  },
  "language_info": {
   "codemirror_mode": {
    "name": "ipython",
    "version": 3
   },
   "file_extension": ".py",
   "mimetype": "text/x-python",
   "name": "python",
   "nbconvert_exporter": "python",
   "pygments_lexer": "ipython3",
   "version": "3.8.18"
  },
  "orig_nbformat": 4,
  "vscode": {
   "interpreter": {
    "hash": "80df2f4e650ded24d0d868dfd46128982912363d587ed46e1f9eb71bde59a956"
   }
  }
 },
 "nbformat": 4,
 "nbformat_minor": 2
}
